{
 "cells": [
  {
   "cell_type": "markdown",
   "id": "77559178",
   "metadata": {},
   "source": [
    "# MLOps Training\n",
    "\n",
    "This notebook give a exemple on how to use MLOps to training a ML model"
   ]
  },
  {
   "cell_type": "markdown",
   "id": "18c9b0da",
   "metadata": {},
   "source": [
    "### MLOpsTrainingClient\n",
    "\n",
    "It's where you can manage your trainining experiments"
   ]
  },
  {
   "cell_type": "code",
   "execution_count": 1,
   "id": "initial_id",
   "metadata": {
    "ExecuteTime": {
     "end_time": "2025-04-30T12:15:41.835327Z",
     "start_time": "2025-04-30T12:15:41.479994Z"
    },
    "collapsed": true
   },
   "outputs": [],
   "source": [
    "from mlops_codex.training import MLOpsTrainingClient"
   ]
  },
  {
   "cell_type": "markdown",
   "id": "f47d2a5a",
   "metadata": {
    "vscode": {
     "languageId": "markdown"
    }
   },
   "source": [
    "### Initializing the MLOpsTrainingClient\n",
    "In this cell, we are initializing the `MLOpsTrainingClient` which will be used to manage our training experiments."
   ]
  },
  {
   "cell_type": "code",
   "execution_count": 2,
   "id": "556a3fb73290a75b",
   "metadata": {
    "ExecuteTime": {
     "end_time": "2025-04-30T12:15:46.482827Z",
     "start_time": "2025-04-30T12:15:44.210969Z"
    }
   },
   "outputs": [
    {
     "name": "stdout",
     "output_type": "stream",
     "text": [
      "May 7, 2025 | INFO: __init__ Loading .env\n",
      "May 7, 2025 | INFO: __init__ Successfully connected to MLOps\n"
     ]
    },
    {
     "data": {
      "text/plain": [
       "API version 1.0 \n",
       " Token=\"eyJhbGciOiJSUzI1NiIsInR5cCI6IkpXVCIsImtpZCI6IlFnc0JWQ0I5WFc0V1YtSkVCVkJiZyJ9.eyJodHRwczovL25lb21hcmlsLmRhdGFyaXNrLm5ldC9uZW9tYXJpbC1ncm91cCI6ImRhdGFyaXNrIiwiaHR0cHM6Ly9uZW9tYXJpbC5kYXRhcmlzay5uZXQvZW1haWwiOiJqb2hucmM2OTJAZ21haWwuY29tIiwiaHR0cHM6Ly9uZW9tYXJpbC5kYXRhcmlzay5uZXQvdGVuYW50IjoiZGF0YXJpc2siLCJodHRwczovL25lb21hcmlsLmRhdGFyaXNrLm5ldC90ZW5hbnQtYWN0aXZlIjp0cnVlLCJodHRwczovL25lb21hcmlsLmRhdGFyaXNrLm5ldC91c2VyLXBsYW4iOiJUcmlhbCIsImh0dHBzOi8vbmVvbWFyaWwuZGF0YXJpc2submV0L3VzZXItYWN0aXZlIjp0cnVlLCJodHRwczovL25lb21hcmlsLmRhdGFyaXNrLm5ldC9yb2xlIjoibWFzdGVyIiwiaXNzIjoiaHR0cHM6Ly9kZXYtbWszbzdsYXp4bGUzMGh3cS51cy5hdXRoMC5jb20vIiwic3ViIjoiYXV0aDB8NjU0OTRlMWFkOTUzN2FlMGFhZDZjNGE5IiwiYXVkIjpbImh0dHBzOi8vZGV2LW1rM283bGF6eGxlMzBod3EudXMuYXV0aDAuY29tL2FwaS92Mi8iLCJodHRwczovL2Rldi1tazNvN2xhenhsZTMwaHdxLnVzLmF1dGgwLmNvbS91c2VyaW5mbyJdLCJpYXQiOjE3NDY2NDMzMDMsImV4cCI6MTc0NjY1NDEwMywic2NvcGUiOiJvcGVuaWQgcHJvZmlsZSBlbWFpbCBhZGRyZXNzIHBob25lIHJlYWQ6Y3VycmVudF91c2VyIHVwZGF0ZTpjdXJyZW50X3VzZXJfbWV0YWRhdGEgZGVsZXRlOmN1cnJlbnRfdXNlcl9tZXRhZGF0YSBjcmVhdGU6Y3VycmVudF91c2VyX21ldGFkYXRhIGNyZWF0ZTpjdXJyZW50X3VzZXJfZGV2aWNlX2NyZWRlbnRpYWxzIGRlbGV0ZTpjdXJyZW50X3VzZXJfZGV2aWNlX2NyZWRlbnRpYWxzIHVwZGF0ZTpjdXJyZW50X3VzZXJfaWRlbnRpdGllcyBvZmZsaW5lX2FjY2VzcyIsImd0eSI6InBhc3N3b3JkIiwiYXpwIjoia3JCNk1sR3ZkOEdBSUNZd1hPd0labU5DMFk5VGFQQTcifQ.clMUNe_MRV6VA66Zsrmv3RSQUVsU3dvVTFY1i9bFWtMEZTOOieKRPakUEgRO-f9bu3yWY3Lm5vyUywCxIY6nL5fFHKOdfqKA38hzuTfL9n_oiNnuGhQZJc6OmtC7eylvCM4Bqde0KqTU4aAXk2jOA3ny1EoEbYfkprtVwv26njC5rJqLhc_kQMtJ4cHvziWzZo_ft3vWIimmTniJqqOz5K2KX2hURUwpbEXUSSoe056a8OspGBYCrzR8zr592y9ReTeSfoL86HP-AMQeAXH4CKoD_MMJKcoOX93TW03agFx1S87vtJBJIk6k7lkQfIZYGPmdX1yA4rsSBcvqN1pmRA"
      ]
     },
     "execution_count": 2,
     "metadata": {},
     "output_type": "execute_result"
    }
   ],
   "source": [
    "client = MLOpsTrainingClient()\n",
    "client"
   ]
  },
  {
   "cell_type": "markdown",
   "id": "deb3a4c9",
   "metadata": {},
   "source": [
    "## MLOpsTrainingExperiment\n",
    "\n",
    "It's where you can create a training experiment to find the best model"
   ]
  },
  {
   "cell_type": "markdown",
   "id": "09074b27",
   "metadata": {},
   "source": [
    "#### Custom training\n",
    "\n",
    "With Custom training, you have to create the training function. For you, as a data scientist, it's common to re-run the entire notebook, over and over. To avoid creating the same experiment repeatedly, the `force = False` parameter will disallow it. If you wish to create a new experiment with the same attributes, turn `force = True`.\n",
    "\n",
    "If you have two equal experiments and pass `force = False`, the first created experiment will be chosen."
   ]
  },
  {
   "cell_type": "code",
   "execution_count": 3,
   "id": "a8f129be78149bb1",
   "metadata": {
    "ExecuteTime": {
     "end_time": "2025-04-30T12:15:48.753762Z",
     "start_time": "2025-04-30T12:15:48.637597Z"
    }
   },
   "outputs": [
    {
     "name": "stdout",
     "output_type": "stream",
     "text": [
      "May 7, 2025 | INFO: create_training_experiment Trying to load experiment...\n",
      "May 7, 2025 | INFO: __get_repeated_thash Found experiment with same attributes...\n",
      "May 7, 2025 | INFO: __init__ Loading .env\n",
      "May 7, 2025 | INFO: __init__ Successfully connected to MLOps\n"
     ]
    }
   ],
   "source": [
    "# Creating a new training experiment\n",
    "training = client.create_training_experiment(\n",
    "    experiment_name='experiment',\n",
    "    model_type='Classification',\n",
    "    group='datarisk',\n",
    ")"
   ]
  },
  {
   "cell_type": "code",
   "execution_count": 4,
   "id": "be81cf47890e1e6a",
   "metadata": {},
   "outputs": [
    {
     "data": {
      "text/plain": [
       "MLOpsTrainingExperiment(name=\"experiment\", \n",
       "                                                        group=\"datarisk\", \n",
       "                                                        training_id=\"T6cc61022f2640698545be2b931489921f29c9bae8844bc694361ee1a1d14918\",\n",
       "                                                        model_type=Classification\n",
       "                                                        )"
      ]
     },
     "execution_count": 4,
     "metadata": {},
     "output_type": "execute_result"
    }
   ],
   "source": [
    "training"
   ]
  },
  {
   "cell_type": "code",
   "execution_count": null,
   "id": "e7a4107da1c07f9",
   "metadata": {},
   "outputs": [
    {
     "name": "stdout",
     "output_type": "stream",
     "text": [
      "May 7, 2025 | INFO: __upload_training Result\n",
      "DatasetHash: D4b0221dd4ea48039e78aaecfe9516fcb77852751c1045bfb28d5c622ffa5733\n",
      "ExecutionId: 3\n",
      "Message: Training files have been uploaded! Use the id '3' to execute the train experiment.\n",
      "\n",
      "May 7, 2025 | INFO: __execute_training Model training starting - Hash: T6cc61022f2640698545be2b931489921f29c9bae8844bc694361ee1a1d14918\n",
      "May 7, 2025 | INFO: __init__ Loading .env\n",
      "May 7, 2025 | INFO: __init__ Successfully connected to MLOps\n",
      "May 7, 2025 | INFO: __init__ Loading .env\n",
      "Waiting the training run.."
     ]
    }
   ],
   "source": [
    "# With the experiment class we can create multiple model runs\n",
    "PATH = './samples/train/'\n",
    "\n",
    "run = training.run_training(\n",
    "    run_name='First test',\n",
    "    training_type='Custom',\n",
    "    train_data=PATH + 'dados.csv',\n",
    "    requirements_file=PATH + 'requirements.txt',\n",
    "    source_file=PATH + 'app.py',\n",
    "    python_version='3.9',\n",
    "    training_reference='train_model',\n",
    "    wait_complete=True\n",
    ")"
   ]
  },
  {
   "cell_type": "code",
   "execution_count": null,
   "id": "4a83032179dcb070",
   "metadata": {},
   "outputs": [],
   "source": [
    "run.status"
   ]
  },
  {
   "cell_type": "code",
   "execution_count": null,
   "id": "1c9162e4384c578a",
   "metadata": {},
   "outputs": [],
   "source": [
    "run.model_type"
   ]
  },
  {
   "cell_type": "markdown",
   "id": "7c90b801e64c17ee",
   "metadata": {},
   "source": [
    "##### Copying a training"
   ]
  },
  {
   "cell_type": "code",
   "execution_count": null,
   "id": "a279e58c101ddc94",
   "metadata": {},
   "outputs": [],
   "source": [
    "copy_run = run.copy_execution(\n",
    "    train_data=PATH + 'dados.csv',\n",
    "    requirements_file=PATH + 'requirements.txt',\n",
    "    source_file=PATH + 'app.py',\n",
    "    python_version='3.9',\n",
    "    training_reference='train_model',\n",
    "    wait_complete=True\n",
    ")"
   ]
  },
  {
   "cell_type": "code",
   "execution_count": null,
   "id": "ad830a9081ae8646",
   "metadata": {},
   "outputs": [],
   "source": [
    "copy_run.execution_id"
   ]
  },
  {
   "cell_type": "code",
   "execution_count": null,
   "id": "527d95c3f53eeed3",
   "metadata": {},
   "outputs": [],
   "source": [
    "copy_run.status"
   ]
  },
  {
   "cell_type": "markdown",
   "id": "b55fb7e4ad997e8",
   "metadata": {},
   "source": [
    "### Promote training"
   ]
  },
  {
   "cell_type": "code",
   "execution_count": null,
   "id": "61bd54e3b648fdfd",
   "metadata": {},
   "outputs": [],
   "source": [
    "PATH = './samples/asyncModel/'\n",
    "model = run.promote(\n",
    "    source_file_path=PATH + 'app.py',\n",
    "    schema_path=PATH + 'schema.csv',\n",
    "    operation=\"Async\",\n",
    "    model_name=\"AsyncModel\",\n",
    "    input_type=\".csv\",\n",
    "    model_reference=\"score\",\n",
    "    wait_complete=True\n",
    ")"
   ]
  },
  {
   "cell_type": "markdown",
   "id": "daedbd49",
   "metadata": {},
   "source": [
    "#### AutoML\n",
    "\n",
    "With AutoML you just need to upload the data and some configuration"
   ]
  },
  {
   "cell_type": "code",
   "execution_count": null,
   "id": "816f785a26dcf617",
   "metadata": {},
   "outputs": [],
   "source": [
    "PATH = './samples/autoML/'\n",
    "\n",
    "run2 = training.run_training(\n",
    "    run_name='First test',\n",
    "    training_type='AutoML',\n",
    "    conf_dict=PATH + \"conf.json\",\n",
    "    train_data=PATH + 'dados.csv',\n",
    "    wait_complete=True\n",
    ")"
   ]
  },
  {
   "cell_type": "markdown",
   "id": "44281a357e0028c6",
   "metadata": {},
   "source": [
    "#### External Training\n",
    "\n",
    "Besides the autoML and custom training, you can perform a training on your own machine and upload the files!\n",
    "\n",
    "Look the example bellow\n",
    "\n"
   ]
  },
  {
   "cell_type": "code",
   "execution_count": null,
   "id": "ad876be96a8213ab",
   "metadata": {
    "ExecuteTime": {
     "end_time": "2025-04-30T12:37:48.767708Z",
     "start_time": "2025-04-30T12:36:45.349008Z"
    }
   },
   "outputs": [
    {
     "name": "stdout",
     "output_type": "stream",
     "text": [
      "April 30, 2025 | INFO: validate Validating external training execution...\n",
      "April 30, 2025 | INFO: __init__ Loading .env\n",
      "April 30, 2025 | INFO: __init__ Successfully connected to MLOps\n",
      "April 30, 2025 | INFO: register_execution Training Execution '12' created for First test\n",
      "April 30, 2025 | INFO: send_file Features for execution was created from file!\n",
      "April 30, 2025 | INFO: send_file Dataset hash = D80b29eba7fd4a89887bc45d98d660d1de8f530ade5b47629b6437d96f574d5d\n",
      "April 30, 2025 | INFO: send_file Target for execution was created from file!\n",
      "April 30, 2025 | INFO: send_file Dataset hash = D4f3ff1032d84e0d89bd29e82232e9a361110aacb20f4b21a3be01c8f34894d5\n",
      "April 30, 2025 | INFO: send_file Output for execution was created from file!\n",
      "April 30, 2025 | INFO: send_file Dataset hash = D95f28a782a8449ba63d5526521de0f2ea281b6ba2b341eab213bf53bab96ff8\n",
      "April 30, 2025 | INFO: send_file Metrics for execution 12 was created from file!\n",
      "April 30, 2025 | INFO: send_file Parameters for execution 12 was created from file!\n",
      "April 30, 2025 | INFO: send_file Model for execution 12 was created from file!\n",
      "April 30, 2025 | INFO: send_file Requirements file inserted for execution '12'\n",
      "April 30, 2025 | INFO: send_json {\"Python version patched for training with hash 'Tdae4e5bdd874c5d9e94c9a2aee73d22a13e925cadef49668b82df6a68180ccc' and id '12'\"}\n",
      "April 30, 2025 | INFO: host Training execution started. Use its execution id 12 to check the status.\n",
      "Training your model.....\n",
      "April 30, 2025 | INFO: wait_ready Training finished successfully.\n"
     ]
    }
   ],
   "source": [
    "PATH = './samples/externalUpload/'\n",
    "\n",
    "run3 = training.run_training(\n",
    "    run_name='First test',\n",
    "    training_type=\"External\",\n",
    "    features_file=PATH + 'features.parquet',\n",
    "    target_file=PATH + 'target.parquet',\n",
    "    output_file=PATH + 'predictions.parquet',\n",
    "    metrics_file=PATH + 'metrics.json',\n",
    "    parameters_file=PATH + 'params.json',\n",
    "    requirements_file=PATH + 'requirements.txt',\n",
    "    model_file=PATH + 'model.pkl',\n",
    "    python_version=\"3.9\",\n",
    "    wait_complete=True\n",
    ")"
   ]
  },
  {
   "cell_type": "code",
   "execution_count": null,
   "id": "21dbdbe6a258990c",
   "metadata": {
    "ExecuteTime": {
     "end_time": "2025-04-30T12:37:52.625919Z",
     "start_time": "2025-04-30T12:37:52.567819Z"
    }
   },
   "outputs": [
    {
     "data": {
      "text/plain": [
       "'Succeeded'"
      ]
     },
     "execution_count": 14,
     "metadata": {},
     "output_type": "execute_result"
    }
   ],
   "source": [
    "run3.status"
   ]
  },
  {
   "cell_type": "markdown",
   "id": "f55fe0a26c5c2221",
   "metadata": {},
   "source": [
    "---\n",
    "\n",
    "#### Interactive External Training\n",
    "\n",
    "However, if you wish something more interactive, take a look in the example bellow."
   ]
  },
  {
   "cell_type": "code",
   "execution_count": null,
   "id": "1d8b38fedf20383b",
   "metadata": {},
   "outputs": [],
   "source": [
    "from mlops_codex.training import MLOpsTrainingClient\n",
    "client = MLOpsTrainingClient()\n",
    "training = client.create_training_experiment(\n",
    "    experiment_name='Teste',\n",
    "    model_type='Classification',\n",
    "    group='<group>'\n",
    ")"
   ]
  },
  {
   "cell_type": "code",
   "execution_count": null,
   "id": "764cec758141737c",
   "metadata": {},
   "outputs": [],
   "source": [
    "import pandas as pd\n",
    "from lightgbm import LGBMClassifier\n",
    "from sklearn.impute import SimpleImputer\n",
    "from sklearn.pipeline import make_pipeline\n",
    "from sklearn.model_selection import cross_val_score"
   ]
  },
  {
   "cell_type": "code",
   "execution_count": null,
   "id": "b22680b507344617",
   "metadata": {},
   "outputs": [],
   "source": [
    "base_path = './samples/train/'\n",
    "df = pd.read_csv(base_path+\"/dados.csv\")\n",
    "X = df.drop(columns=['target'])\n",
    "y = df[[\"target\"]]"
   ]
  },
  {
   "cell_type": "code",
   "execution_count": null,
   "id": "3200db0515a2b3c3",
   "metadata": {},
   "outputs": [],
   "source": [
    "import matplotlib.pyplot as plt\n",
    "\n",
    "plt.scatter(df[\"mean_radius\"], df[\"mean_texture\"])\n",
    "\n",
    "# Configurar o título do gráfico\n",
    "plt.title(\"Relação entre mean_radius e mean_texture\")\n",
    "\n",
    "# Configurar os rótulos dos eixos\n",
    "plt.xlabel(\"mean_radius\")\n",
    "plt.ylabel(\"mean_texture\")\n",
    "\n",
    "fig = plt.gcf()\n",
    "\n",
    "# Exibir o gráfico\n",
    "plt.show()\n"
   ]
  },
  {
   "cell_type": "code",
   "execution_count": null,
   "id": "d748960244448dad",
   "metadata": {},
   "outputs": [],
   "source": [
    "pipe = make_pipeline(SimpleImputer(), LGBMClassifier(force_col_wise=True))\n",
    "pipe.fit(X, y)"
   ]
  },
  {
   "cell_type": "code",
   "execution_count": null,
   "id": "7dbcffb925124081",
   "metadata": {},
   "outputs": [],
   "source": [
    "with training.log_train(name='Teste 2', X_train=X, y_train=y) as logger:\n",
    "    logger.save_model(pipe)\n",
    "\n",
    "    model_output = pd.DataFrame({\"pred\": pipe.predict(X), \"proba\": pipe.predict_proba(X)[:,1]})\n",
    "\n",
    "    logger.save_model_output(model_output)\n",
    "\n",
    "    logger.save_plot(fig=fig, filename=\"test-image\")\n",
    "\n",
    "    auc = cross_val_score(pipe, X, y, cv=5, scoring=\"roc_auc\")\n",
    "    f_score = cross_val_score(pipe, X, y, cv=5, scoring=\"f1\")\n",
    "    logger.save_metric(name='auc', value=auc.mean())\n",
    "    logger.save_metric(name='f1_score', value=f_score.mean())\n"
   ]
  },
  {
   "cell_type": "code",
   "execution_count": null,
   "id": "6c57288178cbe64a",
   "metadata": {},
   "outputs": [],
   "source": []
  }
 ],
 "metadata": {
  "kernelspec": {
   "display_name": "Python 3",
   "language": "python",
   "name": "python3"
  },
  "language_info": {
   "codemirror_mode": {
    "name": "ipython",
    "version": 3
   },
   "file_extension": ".py",
   "mimetype": "text/x-python",
   "name": "python",
   "nbconvert_exporter": "python",
   "pygments_lexer": "ipython3",
   "version": "3.10.12"
  }
 },
 "nbformat": 4,
 "nbformat_minor": 5
}
