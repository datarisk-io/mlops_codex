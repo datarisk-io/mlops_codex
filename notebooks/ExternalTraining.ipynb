{
 "cells": [
  {
   "cell_type": "code",
   "execution_count": 1,
   "id": "c8ed62ca-2c65-4e94-ae9f-c8f544a28559",
   "metadata": {},
   "outputs": [],
   "source": [
    "from mlops_codex.training import MLOpsTrainingClient"
   ]
  },
  {
   "cell_type": "code",
   "execution_count": null,
   "id": "07cf6a07",
   "metadata": {},
   "outputs": [],
   "source": "client = MLOpsTrainingClient()"
  },
  {
   "cell_type": "code",
   "execution_count": null,
   "id": "56130f1d-3236-4c5f-9586-c421f17b2fac",
   "metadata": {},
   "outputs": [],
   "source": [
    "training = client.create_training_experiment(\n",
    "    experiment_name='Teste',\n",
    "    model_type='Classification',\n",
    "    group='groupname'\n",
    ")"
   ]
  },
  {
   "cell_type": "code",
   "execution_count": 8,
   "id": "c03ed658",
   "metadata": {},
   "outputs": [],
   "source": [
    "import pandas as pd\n",
    "from lightgbm import LGBMClassifier\n",
    "from sklearn.impute import SimpleImputer\n",
    "from sklearn.pipeline import make_pipeline\n",
    "from sklearn.model_selection import cross_val_score"
   ]
  },
  {
   "cell_type": "code",
   "execution_count": 9,
   "id": "ad6e7aa2",
   "metadata": {},
   "outputs": [],
   "source": [
    "base_path = './samples/train/'"
   ]
  },
  {
   "cell_type": "code",
   "execution_count": 10,
   "id": "8eb52df7",
   "metadata": {},
   "outputs": [],
   "source": [
    "df = pd.read_csv(base_path+\"/dados.csv\")"
   ]
  },
  {
   "cell_type": "code",
   "execution_count": 11,
   "id": "586d0b45",
   "metadata": {},
   "outputs": [],
   "source": [
    "X = df.drop(columns=['target'])\n",
    "y = df[[\"target\"]]"
   ]
  },
  {
   "cell_type": "code",
   "execution_count": null,
   "id": "1b46f815",
   "metadata": {},
   "outputs": [],
   "source": [
    "import matplotlib.pyplot as plt\n",
    "\n",
    "plt.scatter(df[\"mean_radius\"], df[\"mean_texture\"])\n",
    "\n",
    "# Configurar o título do gráfico\n",
    "plt.title(\"Relação entre mean_radius e mean_texture\")\n",
    "\n",
    "# Configurar os rótulos dos eixos\n",
    "plt.xlabel(\"mean_radius\")\n",
    "plt.ylabel(\"mean_texture\")\n",
    "\n",
    "fig = plt.gcf()\n",
    "\n",
    "# Exibir o gráfico\n",
    "plt.show()\n"
   ]
  },
  {
   "cell_type": "code",
   "execution_count": null,
   "id": "02ce9f5d",
   "metadata": {},
   "outputs": [],
   "source": []
  },
  {
   "cell_type": "code",
   "execution_count": 12,
   "id": "76ddf2ec",
   "metadata": {},
   "outputs": [],
   "source": [
    "pipe = make_pipeline(SimpleImputer(), LGBMClassifier(force_col_wise=True))"
   ]
  },
  {
   "cell_type": "code",
   "execution_count": null,
   "id": "3d06461b",
   "metadata": {},
   "outputs": [],
   "source": [
    "pipe.fit(X, y)"
   ]
  },
  {
   "cell_type": "code",
   "execution_count": null,
   "id": "f06e5e57",
   "metadata": {},
   "outputs": [],
   "source": [
    "with training.log_train(name='Teste 1', X_train=X, y_train=y) as logger:\n",
    "    logger.save_model(pipe)\n",
    "    \n",
    "    model_output = pd.DataFrame({\"pred\": pipe.predict(X), \"proba\": pipe.predict_proba(X)[:,1]})\n",
    "    \n",
    "    logger.save_model_output(model_output)\n",
    "\n",
    "    auc = cross_val_score(pipe, X, y, cv=5, scoring=\"roc_auc\")\n",
    "    f_score = cross_val_score(pipe, X, y, cv=5, scoring=\"f1\")\n",
    "    logger.save_metric(name='auc', value=auc.mean())\n",
    "    logger.save_metric(name='f1_score', value=f_score.mean())\n",
    "\n",
    "    logger.set_python_version('3.10')"
   ]
  },
  {
   "cell_type": "code",
   "execution_count": null,
   "id": "2e366bdb",
   "metadata": {},
   "outputs": [],
   "source": []
  }
 ],
 "metadata": {
  "kernelspec": {
   "display_name": "mlops-neomaril-codex-c4z0dHNl",
   "language": "python",
   "name": "python3"
  },
  "language_info": {
   "codemirror_mode": {
    "name": "ipython",
    "version": 3
   },
   "file_extension": ".py",
   "mimetype": "text/x-python",
   "name": "python",
   "nbconvert_exporter": "python",
   "pygments_lexer": "ipython3",
   "version": "3.10.12"
  }
 },
 "nbformat": 4,
 "nbformat_minor": 5
}
