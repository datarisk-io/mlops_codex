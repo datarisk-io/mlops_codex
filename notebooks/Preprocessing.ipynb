{
 "cells": [
  {
   "attachments": {},
   "cell_type": "markdown",
   "metadata": {},
   "source": [
    "# MLOpsPreprocessing\n",
    "\n",
    "This notebook give a exemple on how to use MLOps to deploy a preprocessing"
   ]
  },
  {
   "attachments": {},
   "cell_type": "markdown",
   "metadata": {},
   "source": [
    "## Imports"
   ]
  },
  {
   "cell_type": "code",
   "metadata": {},
   "source": [
    "from mlops_codex.preprocessing import MLOpsPreprocessingClient\n",
    "from mlops_codex.model import MLOpsModelClient"
   ],
   "outputs": [],
   "execution_count": null
  },
  {
   "attachments": {},
   "cell_type": "markdown",
   "metadata": {},
   "source": [
    "## MLOpsPreprocessingClient"
   ]
  },
  {
   "cell_type": "code",
   "metadata": {},
   "source": "client = MLOpsPreprocessingClient()",
   "outputs": [],
   "execution_count": null
  },
  {
   "attachments": {},
   "cell_type": "markdown",
   "metadata": {},
   "source": [
    "## Creating sync pre processing"
   ]
  },
  {
   "cell_type": "code",
   "metadata": {},
   "source": [
    "PATH = './samples/syncPreprocessing/'"
   ],
   "outputs": [],
   "execution_count": null
  },
  {
   "cell_type": "code",
   "metadata": {},
   "source": [
    "sync_preprocessing = client.create(\n",
    "    preprocessing_name='Teste preprocessing Sync', # model_name\n",
    "    preprocessing_reference='process', # name of the scoring function\n",
    "    source_file=PATH+'app.py', # Path of the source file\n",
    "    requirements_file=PATH+'requirements.txt', # Path of the requirements file, \n",
    "    schema=PATH+'schema.json', # Path of the schema file, but it could be a dict (only required for Sync models)\n",
    "    # env=PATH+'.env'  #  File for env variables (this will be encrypted in the server)\n",
    "    # extra_files=[PATH+'utils.py'], # List with extra files paths that should be uploaded along (they will be all in the same folder)\n",
    "    python_version='3.9', # Can be 3.8 to 3.10\n",
    "    operation=\"Sync\", # Can be Sync or Async\n",
    "    group='groupname' # Model group (create one using the client)\n",
    ")"
   ],
   "outputs": [],
   "execution_count": null
  },
  {
   "metadata": {},
   "cell_type": "code",
   "source": "sync_preprocessing.set_token('29d9d82e09bb4c11b9cd4ce4e36e6c58')",
   "outputs": [],
   "execution_count": null
  },
  {
   "cell_type": "code",
   "metadata": {},
   "source": [
    "result = sync_preprocessing.run(\n",
    "    data={'variable' : 100}\n",
    ")\n",
    "result"
   ],
   "outputs": [],
   "execution_count": null
  },
  {
   "cell_type": "markdown",
   "metadata": {},
   "source": []
  },
  {
   "attachments": {},
   "cell_type": "markdown",
   "metadata": {},
   "source": [
    "## Creating async pre processing"
   ]
  },
  {
   "cell_type": "code",
   "metadata": {},
   "source": [
    "PATH = './samples/asyncPreprocessing/'\n",
    "\n",
    "async_preprocessing = client.create(\n",
    "    preprocessing_name='Teste preprocessing Async', # preprocessing_name\n",
    "    preprocessing_reference='build_df', # name of the scoring function\n",
    "    source_file=PATH+'app.py', # Path of the source file\n",
    "    requirements_file=PATH+'requirements.txt', # Path of the requirements file, \n",
    "    # env=PATH+'.env',  #  File for env variables (this will be encrypted in the server)\n",
    "    # extra_files=[PATH+'input.csv'], # List with extra files paths that should be uploaded along (they will be all in the same folder)\n",
    "    schema=PATH+'schema.csv',\n",
    "    python_version='3.9', # Can be 3.8 to 3.10\n",
    "    operation=\"Async\", # Can be Sync or Async\n",
    "    group='groupname', # Model group (create one using the client)\n",
    "    input_type='csv',\n",
    "    wait_complete=True\n",
    ")"
   ],
   "outputs": [],
   "execution_count": null
  },
  {
   "cell_type": "code",
   "metadata": {},
   "source": "async_preprocessing.set_token('29d9d82e09bb4c11b9cd4ce4e36e6c58')",
   "outputs": [],
   "execution_count": null
  },
  {
   "cell_type": "code",
   "metadata": {},
   "source": [
    "execution = async_preprocessing.run(data=PATH+'input.csv')"
   ],
   "outputs": [],
   "execution_count": null
  },
  {
   "cell_type": "code",
   "metadata": {},
   "source": [
    "execution.get_status()"
   ],
   "outputs": [],
   "execution_count": null
  },
  {
   "cell_type": "code",
   "metadata": {},
   "source": [
    "execution.wait_ready()\n",
    "execution.download_result()"
   ],
   "outputs": [],
   "execution_count": null
  },
  {
   "attachments": {},
   "cell_type": "markdown",
   "metadata": {},
   "source": [
    "## Access created pre processing"
   ]
  },
  {
   "cell_type": "code",
   "metadata": {},
   "source": [
    "client.search_preprocessing()"
   ],
   "outputs": [],
   "execution_count": null
  },
  {
   "cell_type": "code",
   "metadata": {},
   "source": [
    "preprocessing = client.get_preprocessing(preprocessing_id='Sa79236b3dfc4f22a502e816a07dab382cee6327a5334c5bbba13c456233b8c4', group='groupname')"
   ],
   "outputs": [],
   "execution_count": null
  },
  {
   "attachments": {},
   "cell_type": "markdown",
   "metadata": {},
   "source": [
    "## Access created executions"
   ]
  },
  {
   "cell_type": "code",
   "metadata": {},
   "source": [
    "old_execution = async_preprocessing.get_preprocessing_execution(exec_id='2')"
   ],
   "outputs": [],
   "execution_count": null
  },
  {
   "attachments": {},
   "cell_type": "markdown",
   "metadata": {},
   "source": [
    "execution_4.download_result()"
   ]
  },
  {
   "attachments": {},
   "cell_type": "markdown",
   "metadata": {},
   "source": [
    "## Using preprocessing with models"
   ]
  },
  {
   "cell_type": "code",
   "metadata": {},
   "source": [
    "model_client = MLOpsModelClient()"
   ],
   "outputs": [],
   "execution_count": null
  },
  {
   "attachments": {},
   "cell_type": "markdown",
   "metadata": {},
   "source": [
    "#### Sync Model"
   ]
  },
  {
   "cell_type": "code",
   "metadata": {},
   "source": [
    "sync_model = model_client.get_model(group='groupname', model_id='M7abe6af98484948ad63f3ad03f25b6496a93f06e23c4ffbaa43eba0f6a1bb91')\n",
    "\n",
    "sync_model.set_token('29d9d82e09bb4c11b9cd4ce4e36e6c58')\n",
    "\n",
    "data = {\n",
    " \"mean_radius\": 17.99,\n",
    " \"mean_texture\": 10.38,\n",
    " \"mean_perimeter\": 122.8,\n",
    " \"mean_area\": 1001.0,\n",
    " \"mean_smoothness\": 0.1184,\n",
    " \"mean_compactness\": 0.2776,\n",
    " \"mean_concavity\": 0.3001,\n",
    " \"mean_concave_points\": 0.1471,\n",
    " \"mean_symmetry\": 0.2419,\n",
    " \"mean_fractal_dimension\": 0.07871,\n",
    " \"radius_error\": 1.095,\n",
    " \"texture_error\": 0.9053,\n",
    " \"perimeter_error\": 8.589,\n",
    " \"area_error\": 153.4,\n",
    " \"smoothness_error\": 0.006399,\n",
    " \"compactness_error\": 0.04904,\n",
    " \"concavity_error\": 0.05373,\n",
    " \"concave_points_error\": 0.01587,\n",
    " \"symmetry_error\": 0.03003,\n",
    " \"fractal_dimension_error\": 0.006193,\n",
    " \"worst_radius\": 25.38,\n",
    " \"worst_texture\": 17.33,\n",
    " \"worst_perimeter\": 184.6,\n",
    " \"worst_area\": 2019.0,\n",
    " \"worst_smoothness\": 0.1622,\n",
    " \"worst_compactness\": 0.6656,\n",
    " \"worst_concavity\": 0.7119,\n",
    " \"worst_concave_points\": 0.2654,\n",
    " \"worst_symmetry\": 0.4601,\n",
    " \"worst_fractal_dimension\": 0.1189\n",
    "}\n",
    "\n",
    "sync_model.predict(data=data, preprocessing=sync_preprocessing)"
   ],
   "outputs": [],
   "execution_count": null
  },
  {
   "attachments": {},
   "cell_type": "markdown",
   "metadata": {},
   "source": [
    "#### Async Model"
   ]
  },
  {
   "cell_type": "code",
   "metadata": {},
   "source": [
    "async_model = model_client.get_model(group='groupname', model_id='Me6ebaa539cb4a738a66fc52fc34b5422a8c6ae3942b4ca1868624cfda964db3')\n",
    "\n",
    "PATH = './samples/asyncModel/'\n",
    "\n",
    "async_model.set_token('29d9d82e09bb4c11b9cd4ce4e36e6c58')\n",
    "\n",
    "execution = async_model.predict(data=PATH+'input.csv', preprocessing=async_preprocessing)\n",
    "execution.wait_ready()"
   ],
   "outputs": [],
   "execution_count": null
  },
  {
   "cell_type": "code",
   "metadata": {},
   "source": [
    "execution.download_result()"
   ],
   "outputs": [],
   "execution_count": null
  },
  {
   "metadata": {},
   "cell_type": "markdown",
   "source": "-----"
  },
  {
   "metadata": {},
   "cell_type": "markdown",
   "source": [
    "## New preprocessing\n",
    "\n",
    "We're rebuilding the process module. The main feature is the end multiples datasets to MLOps server. Check the code below"
   ]
  },
  {
   "metadata": {},
   "cell_type": "code",
   "source": [
    "PATH = \"./samples/asyncPreprocessingMultiple/\"\n",
    "\n",
    "schemas = [\n",
    "    (\"base_cadastral\", PATH+'base_cadastral.csv'),\n",
    "    (\"base_pagamentos\", PATH+'base_pagamentos.csv'),\n",
    "    (\"base_info\", PATH+'base_info.csv'),\n",
    "]\n",
    "\n",
    "preprocess = client.create(\n",
    "    preprocessing_name='test_preprocessing', # model_name\n",
    "    preprocessing_reference='build_df', # name of the scoring function\n",
    "    source_file=PATH+'app.py', # Path of the source file\n",
    "    requirements_file=PATH+'requirements.txt', # Path of the requirements file,\n",
    "    schema=schemas, # Path of the schema file, but it could be a dict (only required for Sync models)\n",
    "    # env=PATH+'.env'  #  File for env variables (this will be encrypted in the server)\n",
    "    # extra_files=[PATH+'utils.py'], # List with extra files paths that should be uploaded along (they will be all in the same folder)\n",
    "    python_version='3.9', # Can be 3.8 to 3.10\n",
    "    operation=\"Async\", # Can be Sync or Async\n",
    "    group='groupname', # Model group (create one using the client)\n",
    "    wait_complete=True\n",
    ")"
   ],
   "outputs": [],
   "execution_count": null
  },
  {
   "metadata": {},
   "cell_type": "code",
   "source": [
    "inputs = [\n",
    "    (\"base_cadastral\", PATH+'base_cadastral.csv'),\n",
    "    (\"base_pagamentos\", PATH+'base_pagamentos.csv'),\n",
    "    (\"base_info\", PATH+'base_info.csv'),\n",
    "]\n",
    "\n",
    "run = preprocess.run(\n",
    "    data=inputs,\n",
    "    wait_complete=True\n",
    ")"
   ],
   "outputs": [],
   "execution_count": null
  },
  {
   "metadata": {},
   "cell_type": "code",
   "source": "run.download()",
   "outputs": [],
   "execution_count": null
  }
 ],
 "metadata": {
  "kernelspec": {
   "display_name": "mlops-neomaril-codex-c4z0dHNl",
   "language": "python",
   "name": "python3"
  },
  "language_info": {
   "codemirror_mode": {
    "name": "ipython",
    "version": 3
   },
   "file_extension": ".py",
   "mimetype": "text/x-python",
   "name": "python",
   "nbconvert_exporter": "python",
   "pygments_lexer": "ipython3",
   "version": "3.10.12"
  },
  "orig_nbformat": 4
 },
 "nbformat": 4,
 "nbformat_minor": 2
}
