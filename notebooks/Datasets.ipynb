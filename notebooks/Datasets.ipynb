{
 "cells": [
  {
   "cell_type": "markdown",
   "metadata": {},
   "source": [
    "# Datasets\n",
    "\n",
    "This notebook give a exemple on how to get your datasets from MLOps. \n",
    "\n",
    "## What is a dataset?\n",
    "\n",
    "A dataset is generated file when you perform operations:\n",
    "* Import a dataset to a datasource (Check `Datasources.ipynb` file in the samples)\n",
    "* Running an async preprocessing script. It generates two datasets: the input dataset and the output dataset (Check the `Preprocessing.ipynb` file in the samples)\n",
    "* Running a training (Check `Training.ipynb` file in the samples)\n",
    "* Running an async hosted model\n",
    "\n",
    "## What can you do with a dataset?\n",
    "\n",
    "For while, it is possible to list your datasets in MLOps. In the future, it will be possible to download them!"
   ]
  },
  {
   "cell_type": "markdown",
   "metadata": {},
   "source": [
    "# NeoamarilDataset\n",
    "\n",
    "The process to connect is equal any other MLOps module: provide your login and password"
   ]
  },
  {
   "cell_type": "code",
   "execution_count": null,
   "metadata": {},
   "outputs": [],
   "source": [
    "from mlops_codex.dataset import MLOpsDatasetClient\n",
    "client = MLOpsDatasetClient()"
   ]
  },
  {
   "cell_type": "markdown",
   "metadata": {},
   "source": [
    "## Listing all datasets\n",
    "\n",
    "You can list your datasets running `dataset.list_datasets()`. The result of this operations is a list of all datasets"
   ]
  },
  {
   "cell_type": "code",
   "execution_count": null,
   "metadata": {},
   "outputs": [],
   "source": "client.list_datasets()"
  },
  {
   "cell_type": "markdown",
   "metadata": {},
   "source": [
    "You can also filter this list, by passing different parameters:\n",
    "* `group`: Filter by the name of the group the dataset was inserted;\n",
    "* `origin`: Filter by the origin of a dataset. It can be the string `\"Training\"`, `\"Preprocessing\"`, `\"Datasource\"`, `\"Model\"`. Anything else is an error;\n",
    "* `origin_id`: Filter by the id of the dataset. Requires origin;\n",
    "* `datasource`: Filter by a datasource name. It only works if you pass `origin=Datasource`.\n",
    "\n",
    "If you filter by `origin`, it will automatically perform a group filter before filter by origin!"
   ]
  },
  {
   "cell_type": "code",
   "execution_count": null,
   "metadata": {},
   "outputs": [],
   "source": "client.list_datasets(origin=\"Training\", group=\"datarisk\")"
  },
  {
   "metadata": {},
   "cell_type": "code",
   "outputs": [],
   "execution_count": null,
   "source": "dataset = client.load_dataset(\"<INSERT_YOUR_DATASET_HASH_HERE>\")"
  },
  {
   "cell_type": "markdown",
   "metadata": {},
   "source": [
    "# Download a dataset"
   ]
  },
  {
   "cell_type": "code",
   "execution_count": null,
   "metadata": {},
   "outputs": [],
   "source": "dataset.download()"
  }
 ],
 "metadata": {
  "kernelspec": {
   "display_name": "mlops-mlops-codex-48dADUmW",
   "language": "python",
   "name": "python3"
  },
  "language_info": {
   "codemirror_mode": {
    "name": "ipython",
    "version": 3
   },
   "file_extension": ".py",
   "mimetype": "text/x-python",
   "name": "python",
   "nbconvert_exporter": "python",
   "pygments_lexer": "ipython3",
   "version": "3.10.15"
  }
 },
 "nbformat": 4,
 "nbformat_minor": 2
}
