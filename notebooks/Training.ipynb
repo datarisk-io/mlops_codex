{
 "cells": [
  {
   "cell_type": "markdown",
   "id": "77559178",
   "metadata": {},
   "source": [
    "# MLOps Training\n",
    "\n",
    "This notebook give a exemple on how to use MLOps to training a ML model"
   ]
  },
  {
   "cell_type": "markdown",
   "id": "18c9b0da",
   "metadata": {},
   "source": [
    "### MLOpsTrainingClient\n",
    "\n",
    "It's where you can manage your trainining experiments"
   ]
  },
  {
   "cell_type": "code",
   "id": "initial_id",
   "metadata": {
    "collapsed": true,
    "ExecuteTime": {
     "end_time": "2025-04-30T12:15:41.835327Z",
     "start_time": "2025-04-30T12:15:41.479994Z"
    }
   },
   "source": [
    "from mlops_codex.training import MLOpsTrainingClient"
   ],
   "outputs": [],
   "execution_count": 1
  },
  {
   "cell_type": "markdown",
   "id": "f47d2a5a",
   "metadata": {
    "vscode": {
     "languageId": "markdown"
    }
   },
   "source": [
    "### Initializing the MLOpsTrainingClient\n",
    "In this cell, we are initializing the `MLOpsTrainingClient` which will be used to manage our training experiments."
   ]
  },
  {
   "cell_type": "code",
   "id": "556a3fb73290a75b",
   "metadata": {
    "ExecuteTime": {
     "end_time": "2025-04-30T12:15:46.482827Z",
     "start_time": "2025-04-30T12:15:44.210969Z"
    }
   },
   "source": [
    "client = MLOpsTrainingClient()\n",
    "client"
   ],
   "outputs": [
    {
     "name": "stdout",
     "output_type": "stream",
     "text": [
      "April 30, 2025 | INFO: __init__ Loading .env\n",
      "April 30, 2025 | INFO: __init__ Successfully connected to MLOps\n"
     ]
    },
    {
     "data": {
      "text/plain": [
       "Codex version 2.2.8"
      ]
     },
     "execution_count": 2,
     "metadata": {},
     "output_type": "execute_result"
    }
   ],
   "execution_count": 2
  },
  {
   "cell_type": "markdown",
   "id": "deb3a4c9",
   "metadata": {},
   "source": [
    "## MLOpsTrainingExperiment\n",
    "\n",
    "It's where you can create a training experiment to find the best model"
   ]
  },
  {
   "cell_type": "markdown",
   "id": "09074b27",
   "metadata": {},
   "source": [
    "#### Custom training\n",
    "\n",
    "With Custom training, you have to create the training function. For you, as a data scientist, it's common to re-run the entire notebook, over and over. To avoid creating the same experiment repeatedly, the `force = False` parameter will disallow it. If you wish to create a new experiment with the same attributes, turn `force = True`.\n",
    "\n",
    "If you have two equal experiments and pass `force = False`, the first created experiment will be chosen."
   ]
  },
  {
   "cell_type": "code",
   "id": "a8f129be78149bb1",
   "metadata": {
    "ExecuteTime": {
     "end_time": "2025-04-30T12:15:48.753762Z",
     "start_time": "2025-04-30T12:15:48.637597Z"
    }
   },
   "source": [
    "# Creating a new training experiment\n",
    "training = client.create_training_experiment(\n",
    "    experiment_name='experiment',\n",
    "    model_type='Classification',\n",
    "    group='<group>',\n",
    ")"
   ],
   "outputs": [
    {
     "name": "stdout",
     "output_type": "stream",
     "text": [
      "April 30, 2025 | INFO: create_training_experiment Trying to load experiment...\n",
      "April 30, 2025 | INFO: __get_repeated_thash Found experiment with same attributes...\n",
      "April 30, 2025 | INFO: __init__ Loading .env\n",
      "April 30, 2025 | INFO: __init__ Successfully connected to MLOps\n"
     ]
    }
   ],
   "execution_count": 3
  },
  {
   "cell_type": "code",
   "id": "be81cf47890e1e6a",
   "metadata": {},
   "source": [
    "training"
   ],
   "outputs": [],
   "execution_count": null
  },
  {
   "cell_type": "code",
   "id": "e7a4107da1c07f9",
   "metadata": {},
   "source": [
    "# With the experiment class we can create multiple model runs\n",
    "PATH = './samples/train/'\n",
    "\n",
    "run = training.run_training(\n",
    "    run_name='First test',\n",
    "    training_type='Custom',\n",
    "    train_data=PATH + 'dados.csv',\n",
    "    requirements_file=PATH + 'requirements.txt',\n",
    "    source_file=PATH + 'app.py',\n",
    "    python_version='3.9',\n",
    "    training_reference='train_model',\n",
    "    wait_complete=True\n",
    ")"
   ],
   "outputs": [],
   "execution_count": null
  },
  {
   "metadata": {},
   "cell_type": "code",
   "source": "run.status",
   "id": "4a83032179dcb070",
   "outputs": [],
   "execution_count": null
  },
  {
   "metadata": {},
   "cell_type": "code",
   "source": "run.model_type",
   "id": "1c9162e4384c578a",
   "outputs": [],
   "execution_count": null
  },
  {
   "metadata": {},
   "cell_type": "markdown",
   "source": "##### Copying a training",
   "id": "7c90b801e64c17ee"
  },
  {
   "metadata": {},
   "cell_type": "code",
   "source": [
    "copy_run = run.copy_execution(\n",
    "    train_data=PATH + 'dados.csv',\n",
    "    requirements_file=PATH + 'requirements.txt',\n",
    "    source_file=PATH + 'app.py',\n",
    "    python_version='3.9',\n",
    "    training_reference='train_model',\n",
    "    wait_complete=True\n",
    ")"
   ],
   "id": "a279e58c101ddc94",
   "outputs": [],
   "execution_count": null
  },
  {
   "metadata": {},
   "cell_type": "code",
   "source": "copy_run.execution_id",
   "id": "ad830a9081ae8646",
   "outputs": [],
   "execution_count": null
  },
  {
   "metadata": {},
   "cell_type": "code",
   "source": "copy_run.status",
   "id": "527d95c3f53eeed3",
   "outputs": [],
   "execution_count": null
  },
  {
   "metadata": {},
   "cell_type": "markdown",
   "source": "### Promote training",
   "id": "b55fb7e4ad997e8"
  },
  {
   "metadata": {},
   "cell_type": "code",
   "source": [
    "PATH = './samples/asyncModel/'\n",
    "model = run.promote(\n",
    "    source_file_path=PATH + 'app.py',\n",
    "    schema_path=PATH + 'schema.csv',\n",
    "    operation=\"Async\",\n",
    "    model_name=\"AsyncModel\",\n",
    "    input_type=\".csv\",\n",
    "    model_reference=\"score\",\n",
    "    wait_complete=True\n",
    ")"
   ],
   "id": "61bd54e3b648fdfd",
   "outputs": [],
   "execution_count": null
  },
  {
   "cell_type": "markdown",
   "id": "daedbd49",
   "metadata": {},
   "source": [
    "#### AutoML\n",
    "\n",
    "With AutoML you just need to upload the data and some configuration"
   ]
  },
  {
   "cell_type": "code",
   "id": "816f785a26dcf617",
   "metadata": {},
   "source": [
    "PATH = './samples/autoML/'\n",
    "\n",
    "run2 = training.run_training(\n",
    "    run_name='First test',\n",
    "    training_type='AutoML',\n",
    "    conf_dict=PATH + \"conf.json\",\n",
    "    train_data=PATH + 'dados.csv',\n",
    "    wait_complete=True\n",
    ")"
   ],
   "outputs": [],
   "execution_count": null
  },
  {
   "metadata": {},
   "cell_type": "markdown",
   "source": [
    "#### External Training\n",
    "\n",
    "Besides the autoML and custom training, you can perform a training on your own machine and upload the files!\n",
    "\n",
    "Look the example bellow\n",
    "\n"
   ],
   "id": "44281a357e0028c6"
  },
  {
   "metadata": {
    "ExecuteTime": {
     "end_time": "2025-04-30T12:37:48.767708Z",
     "start_time": "2025-04-30T12:36:45.349008Z"
    }
   },
   "cell_type": "code",
   "source": [
    "PATH = './samples/externalUpload/'\n",
    "\n",
    "run3 = training.run_training(\n",
    "    run_name='First test',\n",
    "    training_type=\"External\",\n",
    "    features_file=PATH + 'features.parquet',\n",
    "    target_file=PATH + 'target.parquet',\n",
    "    output_file=PATH + 'predictions.parquet',\n",
    "    metrics_file=PATH + 'metrics.json',\n",
    "    parameters_file=PATH + 'params.json',\n",
    "    requirements_file=PATH + 'requirements.txt',\n",
    "    model_file=PATH + 'model.pkl',\n",
    "    python_version=\"3.9\",\n",
    "    wait_complete=True\n",
    ")"
   ],
   "id": "ad876be96a8213ab",
   "outputs": [
    {
     "name": "stdout",
     "output_type": "stream",
     "text": [
      "April 30, 2025 | INFO: validate Validating external training execution...\n",
      "April 30, 2025 | INFO: __init__ Loading .env\n",
      "April 30, 2025 | INFO: __init__ Successfully connected to MLOps\n",
      "April 30, 2025 | INFO: register_execution Training Execution '12' created for First test\n",
      "April 30, 2025 | INFO: send_file Features for execution was created from file!\n",
      "April 30, 2025 | INFO: send_file Dataset hash = D80b29eba7fd4a89887bc45d98d660d1de8f530ade5b47629b6437d96f574d5d\n",
      "April 30, 2025 | INFO: send_file Target for execution was created from file!\n",
      "April 30, 2025 | INFO: send_file Dataset hash = D4f3ff1032d84e0d89bd29e82232e9a361110aacb20f4b21a3be01c8f34894d5\n",
      "April 30, 2025 | INFO: send_file Output for execution was created from file!\n",
      "April 30, 2025 | INFO: send_file Dataset hash = D95f28a782a8449ba63d5526521de0f2ea281b6ba2b341eab213bf53bab96ff8\n",
      "April 30, 2025 | INFO: send_file Metrics for execution 12 was created from file!\n",
      "April 30, 2025 | INFO: send_file Parameters for execution 12 was created from file!\n",
      "April 30, 2025 | INFO: send_file Model for execution 12 was created from file!\n",
      "April 30, 2025 | INFO: send_file Requirements file inserted for execution '12'\n",
      "April 30, 2025 | INFO: send_json {\"Python version patched for training with hash 'Tdae4e5bdd874c5d9e94c9a2aee73d22a13e925cadef49668b82df6a68180ccc' and id '12'\"}\n",
      "April 30, 2025 | INFO: host Training execution started. Use its execution id 12 to check the status.\n",
      "Training your model.....\n",
      "April 30, 2025 | INFO: wait_ready Training finished successfully.\n"
     ]
    }
   ],
   "execution_count": 13
  },
  {
   "metadata": {
    "ExecuteTime": {
     "end_time": "2025-04-30T12:37:52.625919Z",
     "start_time": "2025-04-30T12:37:52.567819Z"
    }
   },
   "cell_type": "code",
   "source": "run3.status",
   "id": "21dbdbe6a258990c",
   "outputs": [
    {
     "data": {
      "text/plain": [
       "'Succeeded'"
      ]
     },
     "execution_count": 14,
     "metadata": {},
     "output_type": "execute_result"
    }
   ],
   "execution_count": 14
  },
  {
   "metadata": {},
   "cell_type": "markdown",
   "source": [
    "---\n",
    "\n",
    "#### Interactive External Training\n",
    "\n",
    "However, if you wish something more interactive, take a look in the example bellow."
   ],
   "id": "f55fe0a26c5c2221"
  },
  {
   "cell_type": "code",
   "id": "1d8b38fedf20383b",
   "metadata": {},
   "source": [
    "from mlops_codex.training import MLOpsTrainingClient\n",
    "client = MLOpsTrainingClient()\n",
    "training = client.create_training_experiment(\n",
    "    experiment_name='Teste',\n",
    "    model_type='Classification',\n",
    "    group='<group>'\n",
    ")"
   ],
   "outputs": [],
   "execution_count": null
  },
  {
   "metadata": {},
   "cell_type": "code",
   "source": [
    "import pandas as pd\n",
    "from lightgbm import LGBMClassifier\n",
    "from sklearn.impute import SimpleImputer\n",
    "from sklearn.pipeline import make_pipeline\n",
    "from sklearn.model_selection import cross_val_score"
   ],
   "id": "764cec758141737c",
   "outputs": [],
   "execution_count": null
  },
  {
   "metadata": {},
   "cell_type": "code",
   "source": [
    "base_path = './samples/train/'\n",
    "df = pd.read_csv(base_path+\"/dados.csv\")\n",
    "X = df.drop(columns=['target'])\n",
    "y = df[[\"target\"]]"
   ],
   "id": "b22680b507344617",
   "outputs": [],
   "execution_count": null
  },
  {
   "metadata": {},
   "cell_type": "code",
   "source": [
    "import matplotlib.pyplot as plt\n",
    "\n",
    "plt.scatter(df[\"mean_radius\"], df[\"mean_texture\"])\n",
    "\n",
    "# Configurar o título do gráfico\n",
    "plt.title(\"Relação entre mean_radius e mean_texture\")\n",
    "\n",
    "# Configurar os rótulos dos eixos\n",
    "plt.xlabel(\"mean_radius\")\n",
    "plt.ylabel(\"mean_texture\")\n",
    "\n",
    "fig = plt.gcf()\n",
    "\n",
    "# Exibir o gráfico\n",
    "plt.show()\n"
   ],
   "id": "3200db0515a2b3c3",
   "outputs": [],
   "execution_count": null
  },
  {
   "metadata": {},
   "cell_type": "code",
   "source": [
    "pipe = make_pipeline(SimpleImputer(), LGBMClassifier(force_col_wise=True))\n",
    "pipe.fit(X, y)"
   ],
   "id": "d748960244448dad",
   "outputs": [],
   "execution_count": null
  },
  {
   "metadata": {},
   "cell_type": "code",
   "source": [
    "with training.log_train(name='Teste 2', X_train=X, y_train=y) as logger:\n",
    "    logger.save_model(pipe)\n",
    "\n",
    "    model_output = pd.DataFrame({\"pred\": pipe.predict(X), \"proba\": pipe.predict_proba(X)[:,1]})\n",
    "\n",
    "    logger.save_model_output(model_output)\n",
    "\n",
    "    logger.save_plot(fig=fig, filename=\"test-image\")\n",
    "\n",
    "    auc = cross_val_score(pipe, X, y, cv=5, scoring=\"roc_auc\")\n",
    "    f_score = cross_val_score(pipe, X, y, cv=5, scoring=\"f1\")\n",
    "    logger.save_metric(name='auc', value=auc.mean())\n",
    "    logger.save_metric(name='f1_score', value=f_score.mean())\n"
   ],
   "id": "7dbcffb925124081",
   "outputs": [],
   "execution_count": null
  },
  {
   "metadata": {},
   "cell_type": "code",
   "source": "",
   "id": "6c57288178cbe64a",
   "outputs": [],
   "execution_count": null
  }
 ],
 "metadata": {
  "kernelspec": {
   "display_name": "Python 3",
   "language": "python",
   "name": "python3"
  },
  "language_info": {
   "codemirror_mode": {
    "name": "ipython",
    "version": 2
   },
   "file_extension": ".py",
   "mimetype": "text/x-python",
   "name": "python",
   "nbconvert_exporter": "python",
   "pygments_lexer": "ipython2",
   "version": "2.7.6"
  }
 },
 "nbformat": 4,
 "nbformat_minor": 5
}
