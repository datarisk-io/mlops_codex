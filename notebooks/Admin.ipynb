{
 "cells": [
  {
   "cell_type": "markdown",
   "metadata": {},
   "source": [
    "# MLOps Admin\n",
    "\n",
    "This notebook give a exemple on how to use MLOps admin functions.\n",
    "\n",
    "The admin functions work in all clients"
   ]
  },
  {
   "cell_type": "code",
   "metadata": {
    "ExecuteTime": {
     "end_time": "2025-10-09T14:38:49.518418Z",
     "start_time": "2025-10-09T14:38:49.425315Z"
    }
   },
   "source": [
    "# Import the client\n",
    "from mlops_codex.model import MLOpsModelClient"
   ],
   "outputs": [],
   "execution_count": 1
  },
  {
   "cell_type": "code",
   "metadata": {
    "ExecuteTime": {
     "end_time": "2025-10-09T14:38:53.094755Z",
     "start_time": "2025-10-09T14:38:50.509204Z"
    }
   },
   "source": [
    "# Start the client\n",
    "model_client = MLOpsModelClient(\n",
    "    login=\"<email>\",\n",
    "    password=\"<tenant>\",\n",
    "    tenant=\"<tenant>\"\n",
    ")"
   ],
   "outputs": [
    {
     "name": "stdout",
     "output_type": "stream",
     "text": [
      "You are using 3.0.1, but version 3.0.0 is recommended.\n",
      "October 9, 2025 | INFO: __init__ Successfully connected to MLOps\n"
     ]
    }
   ],
   "execution_count": 2
  },
  {
   "cell_type": "markdown",
   "metadata": {},
   "source": [
    "### Groups\n",
    "\n",
    "Groups are a way to increase security and organization of models deployed in MLOps"
   ]
  },
  {
   "cell_type": "code",
   "metadata": {},
   "source": [
    "# To create a group we just need to call the method in any client\n",
    "token = model_client.create_group(\n",
    "    name='<group>', # Group name\n",
    "    description='Group for the notebook demo' # A small description\n",
    ")"
   ],
   "outputs": [],
   "execution_count": null
  },
  {
   "cell_type": "code",
   "metadata": {},
   "source": [
    "# We create a separate group token to be used in model predictions, so it can be shared with the clients\n",
    "# This token has a 1 year expiration date, to generate a new one use the refresh method\n",
    "\n",
    "token = model_client.refresh_group_token(\n",
    "    name='<group>', # Group name\n",
    "    force=True # To force creating a new token even if the old is valid\n",
    ")"
   ],
   "outputs": [],
   "execution_count": null
  },
  {
   "cell_type": "code",
   "metadata": {},
   "source": [
    "token"
   ],
   "outputs": [],
   "execution_count": null
  }
 ],
 "metadata": {
  "kernelspec": {
   "display_name": "mlops-neomaril-codex-c4z0dHNl",
   "language": "python",
   "name": "python3"
  },
  "language_info": {
   "codemirror_mode": {
    "name": "ipython",
    "version": 3
   },
   "file_extension": ".py",
   "mimetype": "text/x-python",
   "name": "python",
   "nbconvert_exporter": "python",
   "pygments_lexer": "ipython3",
   "version": "3.10.12"
  }
 },
 "nbformat": 4,
 "nbformat_minor": 2
}
