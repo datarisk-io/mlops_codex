{
 "cells": [
  {
   "cell_type": "markdown",
   "id": "77559178",
   "metadata": {},
   "source": [
    "# MLOps Training\n",
    "\n",
    "This notebook give a exemple on how to use MLOps to training a ML model"
   ]
  },
  {
   "cell_type": "markdown",
   "id": "18c9b0da",
   "metadata": {},
   "source": [
    "### MLOpsTrainingClient\n",
    "\n",
    "It's where you can manage your trainining experiments"
   ]
  },
  {
   "cell_type": "code",
   "id": "initial_id",
   "metadata": {
    "collapsed": true,
    "ExecuteTime": {
     "end_time": "2025-03-19T13:06:35.253688Z",
     "start_time": "2025-03-19T13:06:34.931674Z"
    }
   },
   "source": [
    "from mlops_codex.training import MLOpsTrainingClient"
   ],
   "outputs": [],
   "execution_count": 1
  },
  {
   "cell_type": "markdown",
   "id": "f47d2a5a",
   "metadata": {
    "vscode": {
     "languageId": "markdown"
    }
   },
   "source": [
    "### Initializing the MLOpsTrainingClient\n",
    "In this cell, we are initializing the `MLOpsTrainingClient` which will be used to manage our training experiments."
   ]
  },
  {
   "cell_type": "code",
   "id": "556a3fb73290a75b",
   "metadata": {
    "ExecuteTime": {
     "end_time": "2025-03-19T13:06:39.561841Z",
     "start_time": "2025-03-19T13:06:36.196292Z"
    }
   },
   "source": [
    "client = MLOpsTrainingClient()\n",
    "client"
   ],
   "outputs": [
    {
     "name": "stdout",
     "output_type": "stream",
     "text": [
      "March 19, 2025 | INFO: __init__ Loading .env\n",
      "March 19, 2025 | INFO: __init__ Successfully connected to MLOps\n"
     ]
    },
    {
     "data": {
      "text/plain": [
       "Codex version 2.2.8"
      ]
     },
     "execution_count": 2,
     "metadata": {},
     "output_type": "execute_result"
    }
   ],
   "execution_count": 2
  },
  {
   "cell_type": "markdown",
   "id": "deb3a4c9",
   "metadata": {},
   "source": [
    "## MLOpsTrainingExperiment\n",
    "\n",
    "It's where you can create a training experiment to find the best model"
   ]
  },
  {
   "cell_type": "markdown",
   "id": "09074b27",
   "metadata": {},
   "source": [
    "#### Custom training\n",
    "\n",
    "With Custom training, you have to create the training function. For you, as a data scientist, it's common to re-run the entire notebook, over and over. To avoid creating the same experiment repeatedly, the `force = False` parameter will disallow it. If you wish to create a new experiment with the same attributes, turn `force = True`.\n",
    "\n",
    "If you have two equal experiments and pass `force = False`, the first created experiment will be chosen."
   ]
  },
  {
   "metadata": {},
   "cell_type": "code",
   "outputs": [],
   "execution_count": null,
   "source": [
    "# Creating a new training experiment\n",
    "training = client.create_training_experiment(\n",
    "    experiment_name='experiment',\n",
    "    model_type='Classification',\n",
    "    group='<group>',\n",
    "    force=False\n",
    ")"
   ],
   "id": "e8b5d9af250e0e0c"
  },
  {
   "metadata": {},
   "cell_type": "markdown",
   "source": "Or load a training",
   "id": "e6619871c9d87946"
  },
  {
   "metadata": {
    "ExecuteTime": {
     "end_time": "2025-03-19T13:06:42.543860Z",
     "start_time": "2025-03-19T13:06:42.469037Z"
    }
   },
   "cell_type": "code",
   "outputs": [
    {
     "name": "stdout",
     "output_type": "stream",
     "text": [
      "March 19, 2025 | INFO: __init__ Loading .env\n",
      "March 19, 2025 | INFO: __init__ Successfully connected to MLOps\n"
     ]
    }
   ],
   "execution_count": 3,
   "source": [
    "# Creating a new training experiment\n",
    "training = client.get_training(training_hash=\"<TRAINING_HASH>\", group='<GROUP>')"
   ],
   "id": "f517398a37ffbe4a"
  },
  {
   "metadata": {
    "ExecuteTime": {
     "end_time": "2025-03-19T13:06:44.587065Z",
     "start_time": "2025-03-19T13:06:44.582694Z"
    }
   },
   "cell_type": "code",
   "outputs": [
    {
     "data": {
      "text/plain": [
       "MLOpsTrainingExperiment(name=\"custom Train1\", \n",
       "                                                        group=\"datarisk\", \n",
       "                                                        training_id=\"T93c469877dd414e9f68f8d8cbe6d03f8555dac3bcb241368971ad7ef38f15e4\",\n",
       "                                                        model_type=Classification\n",
       "                                                        )"
      ]
     },
     "execution_count": 4,
     "metadata": {},
     "output_type": "execute_result"
    }
   ],
   "execution_count": 4,
   "source": "training",
   "id": "50184d93eb65c993"
  },
  {
   "metadata": {},
   "cell_type": "markdown",
   "source": "Now, create your training!",
   "id": "16272814d6c58ce"
  },
  {
   "metadata": {},
   "cell_type": "code",
   "outputs": [],
   "execution_count": null,
   "source": [
    "# With the experiment class we can create multiple model runs\n",
    "PATH = './samples/train/'\n",
    "\n",
    "run = training.run_training(\n",
    "    run_name='First test',\n",
    "    training_type='Custom',\n",
    "    train_data=PATH + 'dados.csv',\n",
    "    requirements_file=PATH + 'requirements.txt',\n",
    "    source_file=PATH + 'app.py',\n",
    "    python_version='3.9',\n",
    "    training_reference='train_model',\n",
    "    wait_complete=True\n",
    ")"
   ],
   "id": "d1ff3ed21fdff4bb"
  },
  {
   "metadata": {},
   "cell_type": "markdown",
   "source": [
    "To get information about your training executions, you can use the `training.executions()` method. There are three modes available:\n",
    "\n",
    "- `dict`: Default. It returns the dictionary with content about your training\n",
    "- `count`: Returns how much executions are associated with the training hash\n",
    "- `log`: Does not return anything, it only logs the information"
   ],
   "id": "8260633937a5cb0c"
  },
  {
   "metadata": {
    "ExecuteTime": {
     "end_time": "2025-03-19T13:06:48.714024Z",
     "start_time": "2025-03-19T13:06:48.659552Z"
    }
   },
   "cell_type": "code",
   "outputs": [],
   "execution_count": 5,
   "source": [
    "# result = training.executions(mode='dict')\n",
    "result = training.executions()"
   ],
   "id": "4db409cac8ca01"
  },
  {
   "metadata": {
    "ExecuteTime": {
     "end_time": "2025-03-19T13:07:08.882967Z",
     "start_time": "2025-03-19T13:07:08.880487Z"
    }
   },
   "cell_type": "code",
   "outputs": [
    {
     "name": "stdout",
     "output_type": "stream",
     "text": [
      "{'TrainingHash': 'T93c469877dd414e9f68f8d8cbe6d03f8555dac3bcb241368971ad7ef38f15e4', 'ExperimentName': 'custom Train1', 'ExperimentsQuantity': 2, 'GroupName': 'datarisk', 'ModelType': 'Classification', 'LastModificationDate': '2025-03-19T12:36:01.263111+00:00', 'RegisteredAt': '2025-03-19T12:30:14.757279+00:00'}\n"
     ]
    }
   ],
   "execution_count": 6,
   "source": "print(result)",
   "id": "e68c0d07f73f677a"
  },
  {
   "metadata": {
    "ExecuteTime": {
     "end_time": "2025-03-19T13:07:13.469425Z",
     "start_time": "2025-03-19T13:07:13.418015Z"
    }
   },
   "cell_type": "code",
   "outputs": [],
   "execution_count": 7,
   "source": "qt = training.executions(mode='count')",
   "id": "bdbd3f9f7444086d"
  },
  {
   "metadata": {
    "ExecuteTime": {
     "end_time": "2025-03-19T13:07:13.865081Z",
     "start_time": "2025-03-19T13:07:13.860732Z"
    }
   },
   "cell_type": "code",
   "outputs": [
    {
     "name": "stdout",
     "output_type": "stream",
     "text": [
      "2\n"
     ]
    }
   ],
   "execution_count": 8,
   "source": "print(qt)",
   "id": "7bb6dcbb56c2b797"
  },
  {
   "metadata": {
    "ExecuteTime": {
     "end_time": "2025-03-19T13:07:24.026614Z",
     "start_time": "2025-03-19T13:07:23.980693Z"
    }
   },
   "cell_type": "code",
   "outputs": [
    {
     "name": "stdout",
     "output_type": "stream",
     "text": [
      "ExperimentName: custom Train1\n",
      "ExperimentsQuantity: 2\n",
      "GroupName: datarisk\n",
      "LastModificationDate: '2025-03-19T12:36:01.263111+00:00'\n",
      "ModelType: Classification\n",
      "RegisteredAt: '2025-03-19T12:30:14.757279+00:00'\n",
      "TrainingHash: T93c469877dd414e9f68f8d8cbe6d03f8555dac3bcb241368971ad7ef38f15e4\n",
      "\n"
     ]
    }
   ],
   "execution_count": 9,
   "source": "training.executions(mode='log')",
   "id": "9245029db570e44a"
  },
  {
   "metadata": {},
   "cell_type": "markdown",
   "source": [
    "#### AutoML\n",
    "\n",
    "With AutoML you just need to upload the data and some configuration"
   ],
   "id": "6dae503c37ab5ccd"
  },
  {
   "metadata": {},
   "cell_type": "code",
   "outputs": [],
   "execution_count": null,
   "source": [
    "PATH = './samples/autoML/'\n",
    "\n",
    "run2 = training.run_training(\n",
    "    run_name='First test',\n",
    "    training_type='AutoML',\n",
    "    conf_dict=PATH + \"conf.json\",\n",
    "    train_data=PATH + 'dados.csv',\n",
    "    wait_complete=True\n",
    ")"
   ],
   "id": "d10f74b953b9fe5d"
  },
  {
   "cell_type": "code",
   "execution_count": null,
   "id": "1d8b38fedf20383b",
   "metadata": {},
   "outputs": [],
   "source": []
  }
 ],
 "metadata": {
  "kernelspec": {
   "display_name": "Python 3",
   "language": "python",
   "name": "python3"
  },
  "language_info": {
   "codemirror_mode": {
    "name": "ipython",
    "version": 2
   },
   "file_extension": ".py",
   "mimetype": "text/x-python",
   "name": "python",
   "nbconvert_exporter": "python",
   "pygments_lexer": "ipython2",
   "version": "2.7.6"
  }
 },
 "nbformat": 4,
 "nbformat_minor": 5
}
