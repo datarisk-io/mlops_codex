{
 "cells": [
  {
   "cell_type": "markdown",
   "metadata": {},
   "source": [
    "# MLOps DataSources\n",
    "\n",
    "This notebook give a exemple on how to import your datasorces and datasets to MLOps"
   ]
  },
  {
   "cell_type": "markdown",
   "metadata": {},
   "source": [
    "### MLOpsDataSourceClient\n",
    "\n",
    "It's where you can manage your Datasources"
   ]
  },
  {
   "cell_type": "code",
   "metadata": {},
   "source": [
    "# Import the client\n",
    "from mlops_codex.datasources import MLOpsDataSourceClient"
   ],
   "outputs": [],
   "execution_count": null
  },
  {
   "cell_type": "code",
   "metadata": {},
   "source": [
    "# Start the client. We are reading the credentials in the MLOPS_TOKEN env variable\n",
    "client = MLOpsDataSourceClient(\n",
    "    login=\"<email>\",\n",
    "    password=\"<tenant>\",\n",
    "    tenant=\"<tenant>\"\n",
    ")"
   ],
   "outputs": [],
   "execution_count": null
  },
  {
   "cell_type": "markdown",
   "metadata": {},
   "source": [
    "### MLOpsDataSource\n",
    "\n",
    "It's where you can register your datasource."
   ]
  },
  {
   "cell_type": "code",
   "metadata": {},
   "source": [
    "import os"
   ],
   "outputs": [],
   "execution_count": null
  },
  {
   "cell_type": "code",
   "metadata": {},
   "source": [
    "credentials_path = os.path.abspath('./samples/datasources/credentials.json')\n",
    "\n",
    "client.register_datasource(\n",
    "    datasource_name='testeDataSource',\n",
    "    provider='GCP',\n",
    "    cloud_credentials=credentials_path,\n",
    "    group='<group>'\n",
    ")"
   ],
   "outputs": [],
   "execution_count": null
  },
  {
   "cell_type": "markdown",
   "metadata": {},
   "source": [
    "#### List Datasources\n",
    "\n",
    "Use this function to find all data sources in your group from one specific provider."
   ]
  },
  {
   "cell_type": "code",
   "metadata": {},
   "source": "client.list_datasource(provider='GCP', group='<group>')",
   "outputs": [],
   "execution_count": null
  },
  {
   "cell_type": "markdown",
   "metadata": {},
   "source": [
    "#### Get Datasources\n",
    "\n",
    "Use this function to get your datasource mlops object."
   ]
  },
  {
   "cell_type": "code",
   "metadata": {},
   "source": "datasource = client.get_datasource(datasource_name='testeDataSource', provider='GCP', group='<group>')",
   "outputs": [],
   "execution_count": null
  },
  {
   "cell_type": "markdown",
   "metadata": {},
   "source": [
    "### MLOpsDataset\n",
    "\n",
    "It's where you can import your dataset.\n",
    "It is mandatory that you register a datasource so that you can import your dataset into it"
   ]
  },
  {
   "cell_type": "code",
   "metadata": {},
   "source": [
    "dataset_uri = 'https://storage.cloud.google.com/projeto/arquivo.csv'\n",
    "\n",
    "dataset = datasource.import_dataset(\n",
    "    dataset_uri=dataset_uri,\n",
    "    dataset_name='<dataset_name>'\n",
    ")\n",
    "dataset"
   ],
   "outputs": [],
   "execution_count": null
  },
  {
   "cell_type": "markdown",
   "metadata": {},
   "source": [
    "#### List Datasets\n",
    "\n",
    "Use this function to find your datasets."
   ]
  },
  {
   "cell_type": "code",
   "metadata": {},
   "source": [
    "datasource.list_datasets()"
   ],
   "outputs": [],
   "execution_count": null
  },
  {
   "cell_type": "markdown",
   "metadata": {},
   "source": [
    "#### Get Datasets\n",
    "\n",
    "Use this function to get your dataset mlops object."
   ]
  },
  {
   "cell_type": "code",
   "metadata": {},
   "source": "dataset = datasource.get_dataset(dataset_hash='<dataset_hash>')",
   "outputs": [],
   "execution_count": null
  },
  {
   "cell_type": "markdown",
   "metadata": {},
   "source": [
    "#### Get Dataset Status\n",
    "\n",
    "Use this function to get dataset status."
   ]
  },
  {
   "cell_type": "markdown",
   "metadata": {},
   "source": [
    "You can wait a dict:\n",
    "\n",
    "when success:\n",
    "```\n",
    "{\n",
    "    status : 'Succeeded',\n",
    "    log : ''\n",
    "}\n",
    "```\n",
    "when failed:\n",
    "```\n",
    "{\n",
    "    \"status\": \"Failed\",\n",
    "    \"log\": \"UnexpectedError\\n  \\\"Azure Request error! Message: Service request failed.\\nStatus: 403 (Server failed to authenticate the request. Make sure the value of Authorization header is formed correctly including the signature.)\\nErrorCode: AuthenticationFailed\\n\\nHeaders:\\nTransfer-Encoding: chunked\\nServer: Microsoft-HTTPAPI/2.0\\nx-ms-request-id: xxxxx\\nx-ms-error-code: AuthenticationFailed\\nDate: Wed, 24 Jan 2024 12:00:36 GMT\\n\\\"\"\n",
    "}\n",
    "```\n",
    "when dataset it's not found, you recive an error DatasetNotFound"
   ]
  },
  {
   "cell_type": "code",
   "metadata": {},
   "source": [
    "dataset.get_status()"
   ],
   "outputs": [],
   "execution_count": null
  },
  {
   "cell_type": "markdown",
   "metadata": {},
   "source": [
    "#### Delete Dataset\n",
    "\n",
    "Use this function to delete your dataset.\n",
    "\n",
    "Pay attention when doing this action, it is irreversible!"
   ]
  },
  {
   "cell_type": "code",
   "metadata": {},
   "source": [
    "dataset.delete()"
   ],
   "outputs": [],
   "execution_count": null
  },
  {
   "cell_type": "markdown",
   "metadata": {},
   "source": [
    "#### Delete DataSource\n",
    "\n",
    "Use this function to delete your datasource.\n",
    "\n",
    "Pay attention when doing this action, it is irreversible!"
   ]
  },
  {
   "cell_type": "code",
   "metadata": {},
   "source": [
    "datasource.delete()"
   ],
   "outputs": [],
   "execution_count": null
  }
 ],
 "metadata": {
  "kernelspec": {
   "display_name": "mlops_codex-WNTK3WJm",
   "language": "python",
   "name": "python3"
  },
  "language_info": {
   "codemirror_mode": {
    "name": "ipython",
    "version": 3
   },
   "file_extension": ".py",
   "mimetype": "text/x-python",
   "name": "python",
   "nbconvert_exporter": "python",
   "pygments_lexer": "ipython3",
   "version": "3.10.12"
  },
  "vscode": {
   "interpreter": {
    "hash": "d7308033b61508a213f02f142180c32f76fea0bd8e107ff2b0f7849d3585655c"
   }
  }
 },
 "nbformat": 4,
 "nbformat_minor": 2
}
